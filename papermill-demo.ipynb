{
 "cells": [
  {
   "cell_type": "markdown",
   "metadata": {},
   "source": [
    "# papermill demo\n",
    "\n",
    "This notebook uses the [papermill](https://github.com/nteract/papermill) APIs to invoke a notebook to demonstrate papermill's flexibility."
   ]
  },
  {
   "cell_type": "code",
   "execution_count": 1,
   "metadata": {},
   "outputs": [],
   "source": [
    "import papermill as pm\n",
    "\n",
    "source_notebook = \"papermill-calc.ipynb\"\n",
    "output_notebook = \"outputs/papermill-calc-output.ipynb\"\n",
    "parameters = dict(\n",
    "    x = 3,\n",
    "    y = 4\n",
    ")"
   ]
  },
  {
   "cell_type": "markdown",
   "metadata": {},
   "source": [
    "Now execute the notebook"
   ]
  },
  {
   "cell_type": "code",
   "execution_count": 2,
   "metadata": {},
   "outputs": [
    {
     "name": "stderr",
     "output_type": "stream",
     "text": [
      "Input notebook does not contain a cell with tag 'parameters'\n"
     ]
    },
    {
     "data": {
      "application/vnd.jupyter.widget-view+json": {
       "model_id": "2eaa85681a094f8691d1b87082a427c6",
       "version_major": 2,
       "version_minor": 0
      },
      "text/plain": [
       "HBox(children=(IntProgress(value=0, description='Executing', max=4, style=ProgressStyle(description_width='ini…"
      ]
     },
     "metadata": {},
     "output_type": "display_data"
    },
    {
     "name": "stdout",
     "output_type": "stream",
     "text": [
      "\n"
     ]
    },
    {
     "data": {
      "text/plain": [
       "{'cells': [{'cell_type': 'code',\n",
       "   'metadata': {'tags': ['injected-parameters'],\n",
       "    'papermill': {'exception': False,\n",
       "     'start_time': '2019-12-03T17:50:58.687280',\n",
       "     'end_time': '2019-12-03T17:50:58.718038',\n",
       "     'duration': 0.030758,\n",
       "     'status': 'completed'}},\n",
       "   'execution_count': 1,\n",
       "   'source': '# Parameters\\nx = 3\\ny = 4\\n',\n",
       "   'outputs': []},\n",
       "  {'cell_type': 'markdown',\n",
       "   'metadata': {'tags': [],\n",
       "    'papermill': {'exception': False,\n",
       "     'start_time': '2019-12-03T17:50:58.727601',\n",
       "     'end_time': '2019-12-03T17:50:58.733721',\n",
       "     'duration': 0.00612,\n",
       "     'status': 'completed'}},\n",
       "   'source': '# papermill calc\\n\\nA simple calculator that adds two numbers together'},\n",
       "  {'cell_type': 'markdown',\n",
       "   'metadata': {'tags': [],\n",
       "    'papermill': {'exception': False,\n",
       "     'start_time': '2019-12-03T17:50:58.743930',\n",
       "     'end_time': '2019-12-03T17:50:58.750473',\n",
       "     'duration': 0.006543,\n",
       "     'status': 'completed'}},\n",
       "   'source': 'This first cell is tagged #parameters and contains the default values for the x and y parameters used in this calculator.'},\n",
       "  {'cell_type': 'code',\n",
       "   'execution_count': None,\n",
       "   'metadata': {'tags': [],\n",
       "    'papermill': {'exception': False,\n",
       "     'start_time': '2019-12-03T17:50:58.756957',\n",
       "     'end_time': '2019-12-03T17:50:58.762666',\n",
       "     'duration': 0.005709,\n",
       "     'status': 'completed'}},\n",
       "   'outputs': [],\n",
       "   'source': ''}],\n",
       " 'metadata': {'kernelspec': {'display_name': 'Python 3',\n",
       "   'language': 'python',\n",
       "   'name': 'python3'},\n",
       "  'language_info': {'name': 'python',\n",
       "   'version': '3.7.4',\n",
       "   'mimetype': 'text/x-python',\n",
       "   'codemirror_mode': {'name': 'ipython', 'version': 3},\n",
       "   'pygments_lexer': 'ipython3',\n",
       "   'nbconvert_exporter': 'python',\n",
       "   'file_extension': '.py'},\n",
       "  'papermill': {'parameters': {'x': 3, 'y': 4},\n",
       "   'environment_variables': {},\n",
       "   'version': '1.2.1',\n",
       "   'input_path': 'papermill-calc.ipynb',\n",
       "   'output_path': 'outputs/papermill-calc-output.ipynb',\n",
       "   'start_time': '2019-12-03T17:50:57.902735',\n",
       "   'end_time': '2019-12-03T17:50:59.090149',\n",
       "   'duration': 1.187414,\n",
       "   'exception': None}},\n",
       " 'nbformat': 4,\n",
       " 'nbformat_minor': 2}"
      ]
     },
     "execution_count": 2,
     "metadata": {},
     "output_type": "execute_result"
    }
   ],
   "source": [
    "pm.execute_notebook(\n",
    "    source_notebook,\n",
    "    output_notebook,\n",
    "    parameters\n",
    ")"
   ]
  },
  {
   "cell_type": "code",
   "execution_count": null,
   "metadata": {},
   "outputs": [],
   "source": []
  }
 ],
 "metadata": {
  "kernelspec": {
   "display_name": "Python 3",
   "language": "python",
   "name": "python3"
  },
  "language_info": {
   "codemirror_mode": {
    "name": "ipython",
    "version": 3
   },
   "file_extension": ".py",
   "mimetype": "text/x-python",
   "name": "python",
   "nbconvert_exporter": "python",
   "pygments_lexer": "ipython3",
   "version": "3.7.4"
  }
 },
 "nbformat": 4,
 "nbformat_minor": 2
}
