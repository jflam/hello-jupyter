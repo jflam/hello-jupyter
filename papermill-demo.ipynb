{
 "cells": [
  {
   "cell_type": "markdown",
   "metadata": {},
   "source": [
    "# papermill demo\n",
    "\n",
    "This notebook uses the [papermill](https://github.com/nteract/papermill) APIs to invoke a notebook to demonstrate papermill's flexibility."
   ]
  },
  {
   "cell_type": "code",
   "execution_count": 1,
   "metadata": {},
   "outputs": [],
   "source": [
    "import papermill as pm\n",
    "\n",
    "source_notebook = \"papermill-calc.ipynb\"\n",
    "output_notebook = \"outputs/papermill-calc-output.ipynb\"\n",
    "parameters = dict(\n",
    "    x = 3,\n",
    "    y = 4\n",
    ")"
   ]
  },
  {
   "cell_type": "markdown",
   "metadata": {},
   "source": [
    "Now execute the notebook"
   ]
  },
  {
   "cell_type": "code",
   "execution_count": 3,
   "metadata": {},
   "outputs": [
    {
     "data": {
      "application/vnd.jupyter.widget-view+json": {
       "model_id": "b1db846b27da4f37924614c80f3f5c3e",
       "version_major": 2,
       "version_minor": 0
      },
      "text/plain": [
       "HBox(children=(IntProgress(value=0, description='Executing', max=6, style=ProgressStyle(description_width='ini…"
      ]
     },
     "metadata": {},
     "output_type": "display_data"
    },
    {
     "name": "stdout",
     "output_type": "stream",
     "text": [
      "\n"
     ]
    },
    {
     "data": {
      "text/plain": [
       "{'cells': [{'cell_type': 'markdown',\n",
       "   'metadata': {'tags': [],\n",
       "    'papermill': {'exception': False,\n",
       "     'start_time': '2019-12-03T17:52:15.366460',\n",
       "     'end_time': '2019-12-03T17:52:15.376076',\n",
       "     'duration': 0.009616,\n",
       "     'status': 'completed'}},\n",
       "   'source': '# papermill calc\\n\\nA simple calculator that adds two numbers together'},\n",
       "  {'cell_type': 'markdown',\n",
       "   'metadata': {'tags': [],\n",
       "    'papermill': {'exception': False,\n",
       "     'start_time': '2019-12-03T17:52:15.391933',\n",
       "     'end_time': '2019-12-03T17:52:15.406460',\n",
       "     'duration': 0.014527,\n",
       "     'status': 'completed'}},\n",
       "   'source': 'This first cell is tagged `parameters` and contains the default values for the x and y parameters used in this calculator.'},\n",
       "  {'cell_type': 'code',\n",
       "   'execution_count': 1,\n",
       "   'metadata': {'tags': ['parameters'],\n",
       "    'papermill': {'exception': False,\n",
       "     'start_time': '2019-12-03T17:52:15.417840',\n",
       "     'end_time': '2019-12-03T17:52:15.443079',\n",
       "     'duration': 0.025239,\n",
       "     'status': 'completed'}},\n",
       "   'outputs': [],\n",
       "   'source': 'x = 1\\ny = 1'},\n",
       "  {'cell_type': 'code',\n",
       "   'metadata': {'tags': ['injected-parameters'],\n",
       "    'papermill': {'exception': False,\n",
       "     'start_time': '2019-12-03T17:52:15.451141',\n",
       "     'end_time': '2019-12-03T17:52:15.472621',\n",
       "     'duration': 0.02148,\n",
       "     'status': 'completed'}},\n",
       "   'execution_count': 2,\n",
       "   'source': '# Parameters\\nx = 3\\ny = 4\\n',\n",
       "   'outputs': []},\n",
       "  {'cell_type': 'code',\n",
       "   'execution_count': 3,\n",
       "   'metadata': {'tags': [],\n",
       "    'papermill': {'exception': False,\n",
       "     'start_time': '2019-12-03T17:52:15.479353',\n",
       "     'end_time': '2019-12-03T17:52:15.516318',\n",
       "     'duration': 0.036965,\n",
       "     'status': 'completed'}},\n",
       "   'outputs': [{'output_type': 'execute_result',\n",
       "     'metadata': {},\n",
       "     'data': {'text/plain': '7'},\n",
       "     'execution_count': 3}],\n",
       "   'source': 'x + y'},\n",
       "  {'cell_type': 'code',\n",
       "   'execution_count': None,\n",
       "   'metadata': {'tags': [],\n",
       "    'papermill': {'exception': False,\n",
       "     'start_time': '2019-12-03T17:52:15.526572',\n",
       "     'end_time': '2019-12-03T17:52:15.534674',\n",
       "     'duration': 0.008102,\n",
       "     'status': 'completed'}},\n",
       "   'outputs': [],\n",
       "   'source': ''}],\n",
       " 'metadata': {'kernelspec': {'display_name': 'Python 3',\n",
       "   'language': 'python',\n",
       "   'name': 'python3'},\n",
       "  'language_info': {'name': 'python',\n",
       "   'version': '3.7.4',\n",
       "   'mimetype': 'text/x-python',\n",
       "   'codemirror_mode': {'name': 'ipython', 'version': 3},\n",
       "   'pygments_lexer': 'ipython3',\n",
       "   'nbconvert_exporter': 'python',\n",
       "   'file_extension': '.py'},\n",
       "  'papermill': {'parameters': {'x': 3, 'y': 4},\n",
       "   'environment_variables': {},\n",
       "   'version': '1.2.1',\n",
       "   'input_path': 'papermill-calc.ipynb',\n",
       "   'output_path': 'outputs/papermill-calc-output.ipynb',\n",
       "   'start_time': '2019-12-03T17:52:14.679388',\n",
       "   'end_time': '2019-12-03T17:52:15.870263',\n",
       "   'duration': 1.190875,\n",
       "   'exception': None}},\n",
       " 'nbformat': 4,\n",
       " 'nbformat_minor': 2}"
      ]
     },
     "execution_count": 3,
     "metadata": {},
     "output_type": "execute_result"
    }
   ],
   "source": [
    "pm.execute_notebook(\n",
    "    source_notebook,\n",
    "    output_notebook,\n",
    "    parameters\n",
    ")"
   ]
  },
  {
   "cell_type": "code",
   "execution_count": null,
   "metadata": {},
   "outputs": [],
   "source": []
  }
 ],
 "metadata": {
  "kernelspec": {
   "display_name": "Python 3",
   "language": "python",
   "name": "python3"
  },
  "language_info": {
   "codemirror_mode": {
    "name": "ipython",
    "version": 3
   },
   "file_extension": ".py",
   "mimetype": "text/x-python",
   "name": "python",
   "nbconvert_exporter": "python",
   "pygments_lexer": "ipython3",
   "version": "3.7.4"
  }
 },
 "nbformat": 4,
 "nbformat_minor": 2
}
