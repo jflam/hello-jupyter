{
 "cells": [
  {
   "cell_type": "markdown",
   "metadata": {},
   "source": [
    "# Media bundles\n",
    "\n",
    "Experiments with the `ipython.display` module and custom Python types."
   ]
  },
  {
   "cell_type": "markdown",
   "metadata": {},
   "source": [
    "## Class with a custom __repr__\n",
    "\n",
    "First, let's define a Python class `SayHello` that implements one of the many `_repr_*_()` methods. In this case `*` represents one of several MIME type representations:\n",
    "\n",
    "- `svg`\n",
    "- `png`\n",
    "- `jpeg`\n",
    "- `html`\n",
    "- `javascript`\n",
    "- `markdown`\n",
    "- `latex`\n",
    "\n",
    "If none of these methods, e.g., `_repr_jpeg_` for rendering JPEGs, it will fall back to the standard `__repr__` method for output.\n",
    "\n",
    "Documentation for how to integrate Python objects with `ipython.display` can be found in this [ipython doc](https://ipython.readthedocs.io/en/stable/config/integrating.html)"
   ]
  },
  {
   "cell_type": "code",
   "execution_count": 6,
   "metadata": {},
   "outputs": [],
   "source": [
    "class SayHello(object):\n",
    "    def _repr_html_(self):\n",
    "        return \"<h2>hello</h2>\""
   ]
  },
  {
   "cell_type": "markdown",
   "metadata": {},
   "source": [
    "Let's create an instance of the `SayHello` class. Notice how it uses the `_repr_html_` method to render an HTML representation of itself."
   ]
  },
  {
   "cell_type": "code",
   "execution_count": 5,
   "metadata": {},
   "outputs": [
    {
     "data": {
      "text/html": [
       "<h2>hello</h2>"
      ],
      "text/plain": [
       "<__main__.SayHello at 0x7fb4105f46d0>"
      ]
     },
     "execution_count": 5,
     "metadata": {},
     "output_type": "execute_result"
    }
   ],
   "source": [
    "SayHello()"
   ]
  },
  {
   "cell_type": "markdown",
   "metadata": {},
   "source": [
    "You can also implement a special method, `_repr_mimebundle_` which returns a dictionary that contains multiple formats, keyed by mimetype, or a tuple of two dictionaries, (__data__, __metadata__). This method has precedence over all other `_repr_*_` methods."
   ]
  },
  {
   "cell_type": "code",
   "execution_count": 13,
   "metadata": {},
   "outputs": [],
   "source": [
    "class MimeBundle(object):\n",
    "    def _repr_mimebundle_(self, include=None, exclude=None):\n",
    "        bundle = {\n",
    "            \"text/plain\": \"plaintext\",\n",
    "            \"text/html\": \"<h2>html</h2>\"\n",
    "        }\n",
    "        if include:\n",
    "            bundle = {k:v for (k,v) in bundle.items() if k in include}\n",
    "        if exclude:\n",
    "            bundle = {k:v for (k,v) in bundle.items() if k not in include}\n",
    "        return bundle"
   ]
  },
  {
   "cell_type": "code",
   "execution_count": 14,
   "metadata": {},
   "outputs": [
    {
     "data": {
      "text/html": [
       "<h2>html</h2>"
      ],
      "text/plain": [
       "plaintext"
      ]
     },
     "execution_count": 14,
     "metadata": {},
     "output_type": "execute_result"
    }
   ],
   "source": [
    "MimeBundle()"
   ]
  },
  {
   "cell_type": "code",
   "execution_count": null,
   "metadata": {},
   "outputs": [],
   "source": []
  }
 ],
 "metadata": {
  "kernelspec": {
   "display_name": "Python 3",
   "language": "python",
   "name": "python3"
  },
  "language_info": {
   "codemirror_mode": {
    "name": "ipython",
    "version": 3
   },
   "file_extension": ".py",
   "mimetype": "text/x-python",
   "name": "python",
   "nbconvert_exporter": "python",
   "pygments_lexer": "ipython3",
   "version": "3.7.4"
  }
 },
 "nbformat": 4,
 "nbformat_minor": 2
}
