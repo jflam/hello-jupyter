{
 "cells": [
  {
   "cell_type": "markdown",
   "metadata": {},
   "source": [
    "# Introduction to Jupyter\n",
    "\n",
    "This is an introduction to what Jupyter is, and how it works."
   ]
  },
  {
   "cell_type": "markdown",
   "metadata": {},
   "source": [
    "## This is a markdown cell. Double-click to edit it.\n",
    "\n",
    "A Jupyter notebook is a collection of `markdown` and `code` cells. This cell is a markdown cell. Double-click on it to open the markdown editor. All standard markdown is supported, including:\n",
    "\n",
    "- bulleted\n",
    "- lists\n",
    "\n",
    "\n",
    "1. numbered\n",
    "1. lists\n",
    "1. of\n",
    "1. items\n",
    "\n",
    "Links to external websites like [Hacker News](https://news.ycombinator.com)\n",
    "\n",
    "Links to external images like this one of Hipster Yoda ![hipster yoda](https://i.pinimg.com/originals/1a/dd/18/1add18c44e622489ed75d408884f1235.jpg)"
   ]
  },
  {
   "attachments": {
    "image.png": {
     "image/png": "[encoded data removed]"
    }
   },
   "cell_type": "markdown",
   "metadata": {},
   "source": [
    "## Code cells\n",
    "\n",
    "A code cell can contain a computation. To run the cell below, just click on the Run button in the toolbar:\n",
    "\n",
    "![image.png](attachment:image.png)\n",
    "\n",
    "or you can press SHIFT+ENTER to run the cell and advance to the next cell, or CTRL+ENTER to run the cell and keep focus on the current cell."
   ]
  },
  {
   "cell_type": "code",
   "execution_count": 1,
   "metadata": {},
   "outputs": [
    {
     "data": {
      "text/plain": [
       "9"
      ]
     },
     "execution_count": 1,
     "metadata": {},
     "output_type": "execute_result"
    }
   ],
   "source": [
    "3 + 6"
   ]
  },
  {
   "cell_type": "markdown",
   "metadata": {},
   "source": [
    "All the code in this notebook is written in [Python](https://python.org). When you run a cell, it is sent to another process running called a __Jupyter kernel__ process. This process is __stateful__ which means that variables will persist across cell executions.\n",
    "\n",
    "Run the following cell to assign a value to `x`:"
   ]
  },
  {
   "cell_type": "code",
   "execution_count": 2,
   "metadata": {},
   "outputs": [],
   "source": [
    "x = 42"
   ]
  },
  {
   "cell_type": "markdown",
   "metadata": {},
   "source": [
    "Run the following cell to inspect the value of `x`"
   ]
  },
  {
   "cell_type": "code",
   "execution_count": 3,
   "metadata": {},
   "outputs": [
    {
     "name": "stdout",
     "output_type": "stream",
     "text": [
      "42\n"
     ]
    }
   ],
   "source": [
    "print(x)"
   ]
  },
  {
   "cell_type": "markdown",
   "metadata": {},
   "source": [
    "Now, let's change the value of `x`. Notice that the output of the previous cell didn't change!"
   ]
  },
  {
   "cell_type": "code",
   "execution_count": 4,
   "metadata": {},
   "outputs": [],
   "source": [
    "x = 12"
   ]
  },
  {
   "cell_type": "markdown",
   "metadata": {},
   "source": [
    "When we print the value of `x` again, we will see output in the notebook that reflects both values of `x` over time:"
   ]
  },
  {
   "cell_type": "code",
   "execution_count": 5,
   "metadata": {},
   "outputs": [
    {
     "name": "stdout",
     "output_type": "stream",
     "text": [
      "12\n"
     ]
    }
   ],
   "source": [
    "print(x)"
   ]
  }
 ],
 "metadata": {
  "kernelspec": {
   "display_name": "Python 3",
   "language": "python",
   "name": "python3"
  },
  "language_info": {
   "codemirror_mode": {
    "name": "ipython",
    "version": 3
   },
   "file_extension": ".py",
   "mimetype": "text/x-python",
   "name": "python",
   "nbconvert_exporter": "python",
   "pygments_lexer": "ipython3",
   "version": "3.7.4"
  }
 },
 "nbformat": 4,
 "nbformat_minor": 4
}
