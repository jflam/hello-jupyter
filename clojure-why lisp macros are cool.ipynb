{
 "cells": [
  {
   "cell_type": "markdown",
   "metadata": {},
   "source": [
    "# Introduction to clojure\n",
    "\n",
    "This notebook is a log of my learnings of clojure. \n",
    "\n",
    "## Installation\n",
    "\n",
    "To install clojure, you first need to install:\n",
    "\n",
    "- Java\n",
    "- Clojure\n",
    "- Clojure Jupyter kernel\n",
    "\n",
    "There are many resources for installing Java and Clojure onto your computer. I'm assuming that you have already installed Java and Clojure onto the machine where the Jupyter kernel will run.\n",
    "\n",
    "You will next need to install the [clojupyter](https://github.com/clojupyter/clojupyter/) kernel onto your computer. The easiest way to do this is using `conda` to install it (typically folks install Jupyter itself using conda):\n",
    "\n",
    "`conda install -y -c simplect clojupyter`"
   ]
  },
  {
   "cell_type": "markdown",
   "metadata": {},
   "source": [
    "Let's add `2 and 3`. Notice that the + operator is really a function in clojure:"
   ]
  },
  {
   "cell_type": "code",
   "execution_count": 2,
   "metadata": {},
   "outputs": [
    {
     "data": {
      "text/plain": [
       "5"
      ]
     },
     "execution_count": 2,
     "metadata": {},
     "output_type": "execute_result"
    }
   ],
   "source": [
    "(+ 2 3)"
   ]
  },
  {
   "cell_type": "markdown",
   "metadata": {},
   "source": [
    "## Why Lisp Macros are cool\n",
    "\n",
    "I was inspired to write this because I was fascinated by [this Perl mailing list post](http://lists.warhead.org.uk/pipermail/iwe/2005-July/000130.html) that was pointed to in this [recent HN thread](https://news.ycombinator.com/item?id=8698074)\n",
    "\n",
    "```\n",
    "--------- Forwarded message ----------\n",
    "From: Mark Jason Dominus <mjd@plover.com>\n",
    "Date: Jul 28, 2005 11:16 PM\n",
    "Subject: Re: HOP -vs- SICP\n",
    "To: hop-discuss@plover.com\n",
    "\n",
    "\n",
    "Bennett Todd:\n",
    "> ... blinded by the superficial\n",
    "> ickiness of lisp (ref lwall \"visual appeal of oatmeal with\n",
    "> fingernail clippings mixed in)\n",
    "\n",
    "As I think I said in the \"Perl Review\" interview, this is not just a\n",
    "matter of personal taste.  Some people don't like Lisp syntax, but it\n",
    "has several major technical advantages over its competitors.\n",
    "\n",
    "One obvious advantage is that there hardly *is* any syntax.  You can\n",
    "learn enough Lisp syntax to write useful programs in about ten\n",
    "minutes.  This was driven home to me when I was in my first year of\n",
    "college.  I was hanging around a fratenity house, talking to Paul, one\n",
    "of the brothers, who was a physics major.  He was taking a class that\n",
    "was given every spring that covered four different programming\n",
    "languages for three weeks each.  Paul told me that he liked Lisp\n",
    "*because* there was hardly any syntax to remember, and it was all\n",
    "simple.  \"Everything's an expression,\" he said.  \"Every expresion gets\n",
    "evaluated.  If you don't want it evaluated, you put a quote on it.\n",
    "Simple.\"\n",
    "\n",
    "But a bigger advantage is that it makes it possible to write Lisp\n",
    "programs that reliably generate and transform Lisp source code.  If\n",
    "you're not used to Lisp, it's hard to imagine how tremendously useful\n",
    "this is.  People who come from the Perl and C world have a deep\n",
    "suspicion of source code transformation, because it's invariably\n",
    "unreliable.  C's macro system, for example, is so unreliable that you\n",
    "can't even define a simple macro like\n",
    "\n",
    "        #define square(x)      x*x\n",
    "\n",
    "without falling afoul of all sorts of horrible traps.  First, you have\n",
    "to realize that this won't work:\n",
    "\n",
    "        2/square(10)\n",
    "\n",
    "because it expands to:\n",
    "\n",
    "        2/10*10\n",
    "\n",
    "which is 2, but you wanted 0.02.  So you need this instead:\n",
    "\n",
    "        #define square(x) (x*x)\n",
    "\n",
    "But then you have to know that this won't work:\n",
    "\n",
    "        square(1+1)\n",
    "\n",
    "because it expands to\n",
    "\n",
    "        (1+1*1+1)\n",
    "\n",
    "which is 3, but you wanted 4.  So you need this instead:\n",
    "\n",
    "        #define square(x) ((x)*(x))\n",
    "\n",
    "But then you have to know that this won't work:\n",
    "\n",
    "        x = 2;\n",
    "        square(x++)\n",
    "\n",
    "because it expands to\n",
    "\n",
    "        ((x++)*(x++))\n",
    "\n",
    "which is 159.8, but you wanted 4.  So you need this instead:\n",
    "\n",
    "        int MYTMP;\n",
    "        #define square(x) (MYTMP = (x), MYTMP*MYTMP)\n",
    "\n",
    "but now it only works for ints; you can't do square(3.5) any more.  To\n",
    "really fix this you have to use nonstandard extensions, something\n",
    "like:\n",
    "\n",
    "        #define square(x) ({typedef xtype = x; xtype xval = x; xval*xva=\n",
    "l; })\n",
    "\n",
    "And that's just to get trivial macros, like \"square()\", to work.  If\n",
    "you want to do anything interesting, your best strategy is to give up\n",
    "as soon as possible.  For example, let's use the C macro system to\n",
    "define a \"strswitch\" construction so that\n",
    "\n",
    "        strswitch(expr) {\n",
    "           case \"foo\": do_foo(); break;\n",
    "           case \"bar\": do_bar(); break;\n",
    "           default: do_default(); break;\n",
    "        }\n",
    "\n",
    "is transformed to\n",
    "\n",
    "        _tmp = expr;\n",
    "        if (strcmp(_tmp, \"foo\") == 0) { do_foo(); }\n",
    "        else if (strcmp(_tmp, \"bar\") == 0) { do_bar(); }\n",
    "        else { do_default(); }\n",
    "\n",
    "at compile time.  With the C macro system?  Are you insane?  HA HA HA HA!\n",
    "\n",
    "A few years ago I gave a conference talk in which I asserted that the\n",
    "C++ macro system blows goat dick.  This remark has since become\n",
    "somewhat notorious, and the C++ fans hate me for it.  But I did not\n",
    "think at the time that this would be controversial.  I was sure that\n",
    "even the most rabid C++ fans would agree with me that the C++ macro\n",
    "system blows goat dick, for the reasons I have just described.  In\n",
    "short: because it can hardly do anything useful, and because the very\n",
    "few things it can do are difficult and complicated and fraught with\n",
    "perilous traps for the unwary.  I really thought they would all say\n",
    "\"Yes, I love C++, in spite of its awful macro system.\"  As usual, I\n",
    "forgot what rabid programming language fans are like; they can and\n",
    "will defend any system, no matter how dysfunctional, as long as it's\n",
    "*their* dysfunctional sytem.\n",
    "\n",
    "Speaking of dysfunctional systems: As I think I mentioned in the _Perl\n",
    "Review_ interview, source filters in Perl are so unreliable that just\n",
    "recently I was reading over the code for Perl6::Subs, a module by Chip\n",
    "Salzenberg, a Perl master wizard of master wizards, and the\n",
    "documentation says quite bluntly:\n",
    "\n",
    "        BUGS\n",
    "\n",
    "        This module is a source filter.  Source filters always break.\n",
    "\n",
    "\n",
    "And he's right.  They always break.  And everyone knows they always\n",
    "break.  We take it for granted.\n",
    "\n",
    "In Lisp, source filters never break.\n",
    "\n",
    "Never.\n",
    "\n",
    "In Lisp, the **assignment operator** is a macro, implemented by a\n",
    "source filter.  Every time you perform an assignment, you are invoking\n",
    "a macro that analyzes the source code at compile time and rewrites it\n",
    "to something else.  If source filters were even 0.01% unreliable in\n",
    "Lisp, one assignment in 10,000 would compile wrong, and none of your\n",
    "programs would ever work properly.  But they do work properly.  That\n",
    "is how reliable source filters are in Lisp.  How does Lisp attain this\n",
    "reliability?\n",
    "\n",
    "In most programming languages, syntax is complex.  Macros have to take\n",
    "apart program syntax, analyze it, and reassemble it.  They do not have\n",
    "access to the program's parser, so they have to depend on heuristics\n",
    "and best-guesses.  Sometimes their cut-rate analysis is wrong, and\n",
    "then they break.\n",
    "\n",
    "But Lisp is different.  Lisp macros *do* have access to the parser,\n",
    "and it is a really simple parser.  A Lisp macro is not handed a\n",
    "string, but a preparsed piece of source code in the form of a list,\n",
    "because the source of a Lisp program is not a string; it is a list.\n",
    "And Lisp programs are really good at taking apart lists and putting\n",
    "them back together.  They do this reliably, every day.\n",
    "\n",
    "Here is an extended example.  Lisp has a macro, called \"setf\", that\n",
    "performs assignment.  The simplest form of setf is\n",
    "\n",
    "        (setf x whatever)\n",
    "\n",
    "which sets the value of the symbol \"x\" to the value of the expression\n",
    "\"whatever\".\n",
    "\n",
    "Lisp also has lists; you can use the \"car\" and \"cdr\" functions to get\n",
    "the first element of a list or the rest of the list, respectively.\n",
    "Now what if you want to replace the first element of a list with a new\n",
    "value?  There is a standard function for doing that, and incredibly,\n",
    "its name is even worse than \"car\".  It is \"rplaca\".  But you do not\n",
    "have to remember \"rplaca\", because you can write\n",
    "\n",
    "        (setf (car somelist) whatever)\n",
    "\n",
    "to set the car of somelist.\n",
    "\n",
    "What is really happening here is that \"setf\" is a macro.  At compile\n",
    "time, it examines its arguments, and it sees that the first one has\n",
    "the form (car SOMETHING).  It says to itself \"Oh, the programmer is\n",
    "trying to set the car of somthing.  The function to use for that is\n",
    "'rplaca'.\"  And it quietly rewrites the code in place to:\n",
    "\n",
    "        (rplaca somelist whatever)\n",
    "\n",
    "There is also a function \"nth\" that gets the n'th element of a list;\n",
    "if you want to modify the 3rd element of some list, you can use:\n",
    "\n",
    "        (setf (nth 2 somelist) whatever)\n",
    "\n",
    "The setf macro sees this and says to itself, \"Oh, you are trying to\n",
    "set the third element of something.  I know how to do that.  I will\n",
    "use the special nonstandard builtin function 'setnth'\" And it quietly\n",
    "rewrites your \"setf\" form to:\n",
    "\n",
    "        (setnth 2 somelist whatever)\n",
    "\n",
    "A different Lisp system might rewrite it differently.\n",
    "\n",
    "Symbols also have \"properties\", which are sort of like built-in\n",
    "hashes; every symbol has one of these hashes attached, and each\n",
    "property has a name and a value.  You access the value associated with\n",
    "the \"foo\" property of symbol \"x\" with the \"get\" function:\n",
    "\n",
    "        (get x foo)\n",
    "\n",
    "How do you set the value associated with the \"foo\" property?  Oh, you\n",
    "use \"setf\", which rewrites\n",
    "\n",
    "        (setf (get x foo) 1)\n",
    "\n",
    "to\n",
    "\n",
    "        (LET* ((#:G847 X) (#:G848 FOO))\n",
    "          (MULTIPLE-VALUE-BIND (#:G850) 1 (COMMON-LISP::%PUT #:G847\n",
    "#:G848 #:G850)))\n",
    "\n",
    "but you don't have to know that.  It just works.\n",
    "\n",
    "Suppose you have defined your own (annoyingness x) function to get the\n",
    "degree to which x is annoying, and (set-annoyingness-of x 1000) to set\n",
    "the annoyingness of x to 1000.  You can use the \"defsetf\" facility so\n",
    "that\n",
    "\n",
    "        (setf (annoyingness something) 1000)\n",
    "\n",
    "expands at compile time to\n",
    "\n",
    "        (set-annoyingness-of something 1000)\n",
    "\n",
    "or whatever else you prefer, and then nobody has to know about\n",
    "set-annoyingness-of, because they can just use setf as usual.  That's\n",
    "a good thing, because \"set-annoyingnes-of\" is pretty annoying itself.\n",
    "\n",
    "Compare this with Perl, where there is a very limited set of things\n",
    "that can appear on the left-hand side of an assignment:\n",
    "\n",
    "        $x          = ...\n",
    "        @x          = ...\n",
    "        %x          = ...\n",
    "        $x[...]     = ...\n",
    "        $x{...}     = ...\n",
    "        @x[...]     = ...\n",
    "        @x{...}     = ...\n",
    "        $x->[...]   = ...\n",
    "        $x->{...}   = ...\n",
    "        pos(...)    = ...\n",
    "        vec(...)    = ...\n",
    "        substr(...) = ...\n",
    "\n",
    "And it was a big deal in recent years that this was extended so that\n",
    "\n",
    "        f(...)      = ...\n",
    "\n",
    "would work if f was specially declared \"lvalue\".   Maybe you would\n",
    "like this to work:\n",
    "\n",
    "        $x = \"foo:bar:baz\";\n",
    "        ($x =~ /(b\\w+):(\\w+)/) = (\"far\", \"raw\");\n",
    "\n",
    "and leave \"foo:far:raw\" in $x.  No, too bad.  That is impossible,\n",
    "unless perhaps you are Gurusamy Sarathy or Dave Mitchell.  But in\n",
    "Lisp, it is just a matter of defsetf-ing the \"match\" function.\n",
    "\n",
    "Maybe you would like this to work in Perl:\n",
    "\n",
    "        sqrt($x) = 12;\n",
    "\n",
    "and now $x contains 144.  No, too bad.  That is impossible, or at\n",
    "least extremely difficult.  (Maybe you could do something ridiculous,\n",
    "like replacing the built-in sqrt() with a user-defined \"lvalue\" sub\n",
    "that tied its argument or something.  Oy.)\n",
    "\n",
    "In Lisp, you can do it, and it is straightforward and simple.  My\n",
    "experience with Lisp can be summed up as \"next to nothing\", but I\n",
    "still figured out how to do it in about ten minutes.  It's:\n",
    "\n",
    "        (defmacro set-sqrt (place v) `(setf ,place (* v v)))\n",
    "        (defsetf sqrt set-sqrt)\n",
    "\n",
    "The \"defmacro\" defines a new macro, called \"set-sqrt\", that expects\n",
    "two arguments:  a \"place\" (that's Lisp jargon for an lvalue\n",
    "expression) and a value v; then it uses \"setf\" to set the value stored\n",
    "in the place to v*v.  The \"defsetf\" tells setf that if anyone ever\n",
    "does\n",
    "\n",
    "        (setf (sqrt something) number)\n",
    "\n",
    "it should rewrite this to\n",
    "\n",
    "        (set-sqrt something number)\n",
    "\n",
    "which in turn will be rewritten to\n",
    "\n",
    "        (setf something (* number number))\n",
    "\n",
    "So we not only get the option to say\n",
    "\n",
    "        (setf (sqrt x) 12)\n",
    "\n",
    "which is eventually rewritten to\n",
    "\n",
    "        (setf x (* 12 12))\n",
    "\n",
    "and  x becomes 144, but we can also say\n",
    "\n",
    "        (setf (sqrt (car somelist)) 12)\n",
    "\n",
    "and set the head of the list to 144.\n",
    "\n",
    "But to enable all this, setf must be able to reliably analyze its\n",
    "argument and decide what it looks like.  Lisp's uniform, simple syntax\n",
    "renders this possible.  In Perl, setf would have to take apart a\n",
    "string and figure out what all the punctuation meant, and hope that\n",
    "nothing had been redefined in a weird way, and hope that no weird\n",
    "syntactic exceptions had come up (ha!), and so on, and so on.\n",
    "\n",
    "In HOP's preface, I said:\n",
    "\n",
    "        The book _Paradigms of Artificial Intelligence Programming_,\n",
    "        by Peter Norvig, includes a section titled \"What Makes Lisp\n",
    "        Different?\" that describes seven features of Lisp. Perl shares\n",
    "        six of these features.\n",
    "\n",
    "Which one is missing?  \"Uniform syntax.\"\n",
    "\n",
    "Norvig was one of the technical reviewers for HOP, and asked in one of\n",
    "his reports why I spent so little space in the book discussing source\n",
    "code generation.  I think only a Lisp expert would have asked that.\n",
    "Source code generation is unreliable and inadvisable in every language\n",
    "except Lisp.\n",
    "```"
   ]
  },
  {
   "cell_type": "markdown",
   "metadata": {},
   "source": [
    "I can bind x to the value 42. Notice this is different from using `setf` above from Common LISP."
   ]
  },
  {
   "cell_type": "code",
   "execution_count": 6,
   "metadata": {},
   "outputs": [
    {
     "data": {
      "text/plain": [
       "#'user/x"
      ]
     },
     "execution_count": 6,
     "metadata": {},
     "output_type": "execute_result"
    }
   ],
   "source": [
    "(def x 42)"
   ]
  },
  {
   "cell_type": "code",
   "execution_count": 5,
   "metadata": {},
   "outputs": [
    {
     "data": {
      "text/plain": [
       "43"
      ]
     },
     "execution_count": 5,
     "metadata": {},
     "output_type": "execute_result"
    }
   ],
   "source": [
    "(+ x 1)"
   ]
  },
  {
   "cell_type": "markdown",
   "metadata": {},
   "source": [
    "## cons, car and cdr\n",
    "\n",
    "Note that Clojure does not come with a functional `cons`, `car`, and `cdr` functions:"
   ]
  },
  {
   "cell_type": "code",
   "execution_count": 7,
   "metadata": {},
   "outputs": [
    {
     "name": "stderr",
     "output_type": "stream",
     "text": [
      "Execution error (IllegalArgumentException) at user/eval4097 (REPL:1).\n",
      "Don't know how to create ISeq from: java.lang.Long\n"
     ]
    },
    {
     "ename": "class java.lang.IllegalArgumentException",
     "evalue": "",
     "output_type": "error",
     "traceback": [
      "    RT.java:   557 clojure.lang.RT/seqFrom                                ",
      "    RT.java:   537 clojure.lang.RT/seq                                    ",
      "    RT.java:   687 clojure.lang.RT/cons                                   ",
      "   core.clj:    29 clojure.core$cons__5376/invokeStatic                   ",
      "   core.clj:  3214 clojure.core$eval/invokeStatic                         ",
      "   core.clj:  3210 clojure.core$eval/invoke                               ",
      "   main.clj:   437 clojure.main$repl$read_eval_print__9086$fn__9089/invoke",
      "   main.clj:   458 clojure.main$repl$fn__9095/invoke                      ",
      "   main.clj:   368 clojure.main$repl/doInvoke                             ",
      "RestFn.java:  1523 clojure.lang.RestFn/invoke                             ",
      "   AFn.java:    22 clojure.lang.AFn/run                                   ",
      "   AFn.java:    22 clojure.lang.AFn/run                                   ",
      "Thread.java:   745 java.lang.Thread/run                                   "
     ]
    }
   ],
   "source": [
    "(cons 1 2)"
   ]
  },
  {
   "cell_type": "markdown",
   "metadata": {},
   "source": [
    "There is a mapping that can be done, cons needs to take a Clojure sequence, which is denoted by square brackets, as the second parameter."
   ]
  },
  {
   "cell_type": "code",
   "execution_count": 18,
   "metadata": {},
   "outputs": [
    {
     "data": {
      "text/plain": [
       "(1 2 3)"
      ]
     },
     "execution_count": 18,
     "metadata": {},
     "output_type": "execute_result"
    }
   ],
   "source": [
    "(cons 1 [2 3])"
   ]
  },
  {
   "cell_type": "markdown",
   "metadata": {},
   "source": [
    "After that, you can use built in functions like `first`, `second`, and `rest` to extract elements out of the list. \n",
    "\n",
    "- `first` is equivalent to `car`\n",
    "- `rest` is equivalent to `cdr`"
   ]
  },
  {
   "cell_type": "code",
   "execution_count": 8,
   "metadata": {},
   "outputs": [
    {
     "data": {
      "text/plain": [
       "1"
      ]
     },
     "execution_count": 8,
     "metadata": {},
     "output_type": "execute_result"
    }
   ],
   "source": [
    "(first [1 2])"
   ]
  },
  {
   "cell_type": "code",
   "execution_count": 9,
   "metadata": {},
   "outputs": [
    {
     "data": {
      "text/plain": [
       "2"
      ]
     },
     "execution_count": 9,
     "metadata": {},
     "output_type": "execute_result"
    }
   ],
   "source": [
    "(second [1 2])"
   ]
  },
  {
   "cell_type": "code",
   "execution_count": 11,
   "metadata": {},
   "outputs": [
    {
     "data": {
      "text/plain": [
       "nil"
      ]
     },
     "execution_count": 11,
     "metadata": {},
     "output_type": "execute_result"
    }
   ],
   "source": [
    "(second [1])"
   ]
  },
  {
   "cell_type": "code",
   "execution_count": 12,
   "metadata": {},
   "outputs": [
    {
     "data": {
      "text/plain": [
       "(1 3 2 1)"
      ]
     },
     "execution_count": 12,
     "metadata": {},
     "output_type": "execute_result"
    }
   ],
   "source": [
    "(cons 1 [3 2 1])"
   ]
  },
  {
   "cell_type": "code",
   "execution_count": 13,
   "metadata": {},
   "outputs": [
    {
     "data": {
      "text/plain": [
       "#'user/y"
      ]
     },
     "execution_count": 13,
     "metadata": {},
     "output_type": "execute_result"
    }
   ],
   "source": [
    "(def y (cons 1 [3 2 1]))"
   ]
  },
  {
   "cell_type": "code",
   "execution_count": 14,
   "metadata": {},
   "outputs": [
    {
     "data": {
      "text/plain": [
       "(1 3 2 1)"
      ]
     },
     "execution_count": 14,
     "metadata": {},
     "output_type": "execute_result"
    }
   ],
   "source": [
    "y"
   ]
  },
  {
   "cell_type": "code",
   "execution_count": 15,
   "metadata": {},
   "outputs": [
    {
     "data": {
      "text/plain": [
       "3"
      ]
     },
     "execution_count": 15,
     "metadata": {},
     "output_type": "execute_result"
    }
   ],
   "source": [
    "(second y)"
   ]
  },
  {
   "cell_type": "code",
   "execution_count": 16,
   "metadata": {},
   "outputs": [
    {
     "data": {
      "text/plain": [
       "(3 2 1)"
      ]
     },
     "execution_count": 16,
     "metadata": {},
     "output_type": "execute_result"
    }
   ],
   "source": [
    "(rest y)"
   ]
  },
  {
   "cell_type": "code",
   "execution_count": null,
   "metadata": {},
   "outputs": [],
   "source": []
  }
 ],
 "metadata": {
  "kernelspec": {
   "display_name": "Clojure (clojupyter=0.2.3=2)",
   "language": "clojure",
   "name": "conda-clojupyter"
  },
  "language_info": {
   "file_extension": ".clj",
   "mimetype": "text/x-clojure",
   "name": "clojure",
   "version": "1.10.1"
  }
 },
 "nbformat": 4,
 "nbformat_minor": 2
}
